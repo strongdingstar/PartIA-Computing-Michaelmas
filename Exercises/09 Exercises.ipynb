{
 "cells": [
  {
   "cell_type": "markdown",
   "metadata": {},
   "source": [
    "## Exercise 09.1 (checking data validity)\n",
    "\n",
    "The Fibonacci series is valid only for $n \\ge 0$. Add to the Fibonacci function in this notebook a check that raises an exception if $n < 0$. Try some invalid data cases to check that an exception is raised.\n",
    "\n",
    "*Optional:* Use `pytest` to test that an exception *is* raised for some $n < 0$ cases."
   ]
  },
  {
   "cell_type": "code",
   "execution_count": null,
   "metadata": {
    "nbgrader": {
     "grade": false,
     "grade_id": "cell-982c3611466532a2",
     "locked": false,
     "schema_version": 3,
     "solution": true
    },
    "tags": []
   },
   "outputs": [],
   "source": [
    "fib = [0 for i in range(100001)]\n",
    "fib[1] = 1\n",
    "\n",
    "\n",
    "def f(n):\n",
    "    if n < 0:\n",
    "        raise ValueError(\"not defined for negative numbers\")\n",
    "    if n >= len(fib):\n",
    "        raise ValueError(\"maximum number of iterations is exceeded\")\n",
    "\n",
    "    if fib[n] != 0 or n == 0:\n",
    "        return fib[n]\n",
    "    fib[n] = f(n - 1) + f(n - 2)\n",
    "    return fib[n]"
   ]
  },
  {
   "cell_type": "code",
   "execution_count": null,
   "metadata": {
    "nbgrader": {
     "grade": true,
     "grade_id": "cell-9b97ea3e85d77f4a",
     "locked": true,
     "points": 0,
     "schema_version": 3,
     "solution": false
    }
   },
   "outputs": [],
   "source": [
    "## tests ##\n",
    "\n",
    "# Perform some tests\n",
    "assert f(0) == 0\n",
    "assert f(1) == 1\n",
    "assert f(2) == 1\n",
    "assert f(3) == 2\n",
    "assert f(10) == 55\n",
    "assert f(15) == 610\n",
    "\n",
    "# Check that ValueError is raised for n < 0\n",
    "import pytest\n",
    "\n",
    "with pytest.raises(ValueError):\n",
    "    f(-1)\n",
    "with pytest.raises(ValueError):\n",
    "    f(-2)"
   ]
  },
  {
   "cell_type": "markdown",
   "metadata": {
    "nbgrader": {
     "grade": false,
     "grade_id": "cell-69c78c0ffc19db36",
     "locked": true,
     "schema_version": 3,
     "solution": false
    }
   },
   "source": [
    "## Exercise 09.2 (raising exceptions)\n",
    "\n",
    "Modify your program from the bisection exercise in Activity 04 to raise an error if the maximum number of iterations is exceeded. Reduce the maximum allowed iterations to test that an exception is raised.\n",
    "\n",
    "Add any other checks on the input data that you think are appropriate."
   ]
  },
  {
   "cell_type": "code",
   "execution_count": 10,
   "metadata": {
    "nbgrader": {
     "grade": false,
     "grade_id": "cell-ca2c3ee62ad3b956",
     "locked": false,
     "schema_version": 3,
     "solution": true
    },
    "tags": []
   },
   "outputs": [],
   "source": [
    "def my_f(x):\n",
    "    \"\"\"Evaluate polynomial function\"\"\"\n",
    "    return x**5 / 10 + x**3 - 10 * x**2 + 4 * x + 7\n",
    "\n",
    "\n",
    "def compute_root(f, x0, x1, tol, max_it):\n",
    "    \"\"\"Compute roots of a function using bisection\"\"\"\n",
    "    if x0 > x1:\n",
    "        raise ValueError(\"lower bound cannot be higher than upper bound\")\n",
    "    f0 = f(x0)\n",
    "    f1 = f(x1)\n",
    "\n",
    "    it = 0\n",
    "\n",
    "    while it < max_it:\n",
    "        x_mid = (x0 + x1) / 2\n",
    "        f_mid = f(x_mid)\n",
    "\n",
    "        if abs(f_mid) < tol:\n",
    "            return x_mid, f_mid, it\n",
    "\n",
    "        if f_mid * f0 < 0:\n",
    "            x1 = x_mid\n",
    "            f1 = f_mid\n",
    "        else:\n",
    "            x0 = x_mid\n",
    "            f0 = f_mid\n",
    "\n",
    "        it += 1\n",
    "\n",
    "        if abs(x1 - x0) < tol:\n",
    "            return x_mid, f_mid, it\n",
    "    if it < max_it:\n",
    "        return x_mid, f_mid, it\n",
    "    else:\n",
    "        raise RuntimeError(\"maximum number of iterations exceeded\")"
   ]
  },
  {
   "cell_type": "code",
   "execution_count": 13,
   "metadata": {
    "nbgrader": {
     "grade": true,
     "grade_id": "cell-f6cf91ed5dd1736b",
     "locked": true,
     "points": 0,
     "schema_version": 3,
     "solution": false
    }
   },
   "outputs": [],
   "source": [
    "## tests ##\n",
    "\n",
    "# Test with max_it = 30\n",
    "x, f, num_it = compute_root(my_f, x0=0, x1=2, tol=1.0e-6, max_it=30)\n",
    "\n",
    "# Test with max_it = 20\n",
    "with pytest.raises(RuntimeError):\n",
    "    x, f, num_it = compute_root(my_f, x0=0, x1=2, tol=1.0e-6, max_it=20)\n",
    "\n",
    "# Test wih x0=2, x1=0\n",
    "with pytest.raises(ValueError):\n",
    "    x, f, num_it = compute_root(my_f, x0=2, x1=0, tol=1.0e-6, max_it=30)"
   ]
  }
 ],
 "metadata": {
  "celltoolbar": "Create Assignment",
  "kernelspec": {
   "display_name": "Python 3",
   "language": "python",
   "name": "python3"
  },
  "language_info": {
   "codemirror_mode": {
    "name": "ipython",
    "version": 3
   },
   "file_extension": ".py",
   "mimetype": "text/x-python",
   "name": "python",
   "nbconvert_exporter": "python",
   "pygments_lexer": "ipython3",
   "version": "3.12.7"
  },
  "otter": {
   "OK_FORMAT": true,
   "assignment_name": "Exercises 9",
   "tests": {}
  }
 },
 "nbformat": 4,
 "nbformat_minor": 4
}
